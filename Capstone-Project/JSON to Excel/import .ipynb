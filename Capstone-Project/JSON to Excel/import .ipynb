{
 "cells": [
  {
   "cell_type": "code",
   "execution_count": 42,
   "metadata": {},
   "outputs": [],
   "source": [
    "import json\n",
    "import openpyxl\n",
    "import pandas as pd\n",
    "\n",
    "# Membaca data JSON dari string\n",
    "data = pd.read_json('akuku.json')\n",
    "\n",
    "# Membuat file Excel baru\n",
    "workbook = openpyxl.Workbook()\n",
    "sheet = workbook.active\n",
    "\n",
    "# Menambahkan data ke dalam file Excel\n",
    "sheet[\"A1\"] = \"ID\"\n",
    "sheet[\"B1\"] = \"Day\"\n",
    "sheet[\"C1\"] = \"Open\"\n",
    "sheet[\"D1\"] = \"Close\"\n",
    "\n",
    "rowIndex = 2\n",
    "...\n",
    "for id, days in data.items():\n",
    "    for day, times in days[0].items():\n",
    "      for time in times:\n",
    "        sheet[f\"A{rowIndex}\"] = id\n",
    "        sheet[f\"B{rowIndex}\"] = day\n",
    "        if \"opens\" in time:\n",
    "          sheet[f\"C{rowIndex}\"] = time[\"opens\"]\n",
    "        if \"closes\" in time:\n",
    "          sheet[f\"D{rowIndex}\"] = time[\"closes\"]\n",
    "        rowIndex += 1\n",
    "\n",
    "# Menyimpan file Excel\n",
    "workbook.save(\"hours_of_operation.xlsx\")\n",
    "\n",
    "\n"
   ]
  }
 ],
 "metadata": {
  "kernelspec": {
   "display_name": "Python 3",
   "language": "python",
   "name": "python3"
  },
  "language_info": {
   "codemirror_mode": {
    "name": "ipython",
    "version": 3
   },
   "file_extension": ".py",
   "mimetype": "text/x-python",
   "name": "python",
   "nbconvert_exporter": "python",
   "pygments_lexer": "ipython3",
   "version": "3.9.6"
  },
  "orig_nbformat": 4,
  "vscode": {
   "interpreter": {
    "hash": "4431ebb243d28931014019d45c92573f9a4ede4327941493f56487c9791a35e0"
   }
  }
 },
 "nbformat": 4,
 "nbformat_minor": 2
}
